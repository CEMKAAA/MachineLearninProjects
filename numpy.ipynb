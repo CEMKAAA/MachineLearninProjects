{
 "cells": [
  {
   "cell_type": "markdown",
   "metadata": {},
   "source": [
    "                                                        NUMPY"
   ]
  },
  {
   "cell_type": "code",
   "execution_count": 25,
   "metadata": {},
   "outputs": [
    {
     "name": "stdout",
     "output_type": "stream",
     "text": [
      "2\n",
      "[2, 3, 4]\n",
      "5\n",
      "[1 2 3 4 5]\n",
      "<class 'numpy.ndarray'>\n",
      "2\n",
      "[2 3 4 5]\n",
      "[1 2 3]\n",
      "[[1 2 3 1]\n",
      " [4 5 6 1]\n",
      " [7 8 9 1]]\n",
      "5\n",
      "(2, 3, 4)\n",
      "3\n",
      "24\n",
      "int32\n",
      "object\n",
      "<class 'int'>\n"
     ]
    }
   ],
   "source": [
    "import numpy as np\n",
    "#Ordinary Python Lists\n",
    "a = [1,2,3,4,5]\n",
    "print(a[1])\n",
    "print(a[1:4])\n",
    "print(a[-1])\n",
    "\n",
    "#Numpy arrays\n",
    "a = np.array([1,2,3,4,5])\n",
    "print(a)\n",
    "print(type(a))\n",
    "print(a[1])\n",
    "print(a[1:])\n",
    "print(a[:-2])\n",
    "\n",
    "a_mul = np.array([[[1,2,3,1],[4,5,6,1],[7,8,9,1]],[[1,2,3,1],[4,5,6,1],[7,8,9,1]]])\n",
    "print(a_mul[0])\n",
    "print(a_mul[0,1,1])\n",
    "print(a_mul.shape) #3x3 2d array\n",
    "print(a_mul.ndim)\n",
    "print(a_mul.size)\n",
    "print(a_mul.dtype)\n",
    "\n",
    "d = {\n",
    "    '1': 'A'\n",
    "}\n",
    "\n",
    "a = np.array(\n",
    "    [\n",
    "        [1,d,3],\n",
    "        [4,\"5\",6], # if string value was Hello than we would encounter a error because we can not convert it to base int32\n",
    "        [7,8,9]\n",
    "    ],dtype='object'\n",
    ")\n",
    "print(a.dtype)\n",
    "print(type(a[1,2]))"
   ]
  },
  {
   "cell_type": "code",
   "execution_count": null,
   "metadata": {},
   "outputs": [],
   "source": []
  }
 ],
 "metadata": {
  "kernelspec": {
   "display_name": "Python 3",
   "language": "python",
   "name": "python3"
  },
  "language_info": {
   "codemirror_mode": {
    "name": "ipython",
    "version": 3
   },
   "file_extension": ".py",
   "mimetype": "text/x-python",
   "name": "python",
   "nbconvert_exporter": "python",
   "pygments_lexer": "ipython3",
   "version": "3.10.6"
  }
 },
 "nbformat": 4,
 "nbformat_minor": 2
}
