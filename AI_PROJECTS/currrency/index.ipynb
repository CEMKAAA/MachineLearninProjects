{
 "cells": [
  {
   "cell_type": "code",
   "execution_count": 10,
   "metadata": {},
   "outputs": [],
   "source": [
    "import requests\n",
    "API_KEY = 'fca_live_RovqMPkMrhlsqqLWt5laUgPpp80CY8kmWmgZ1IIz'\n",
    "BASE_URL = f\"https://api.freecurrencyapi.com/v1/latest?apikey={API_KEY}\"\n",
    "CURRENCIES = [\"USD\", \"CAD\", \"EUR\", \"AUD\", \"TRY\", \"CNY\", \"JPY\"]"
   ]
  },
  {
   "cell_type": "code",
   "execution_count": 13,
   "metadata": {},
   "outputs": [],
   "source": [
    "def convert_currency(base):\n",
    "    currencies = \",\".join(CURRENCIES) # bu artık bir string \"USDCAD,EUR,AUD...\"\n",
    "    url = f\"{BASE_URL}&base_currency={base}&currencies={currencies}\"\n",
    "    try:\n",
    "        response = requests.get(url)\n",
    "        data = response.json()\n",
    "        print(data)\n",
    "        return data[\"data\"]\n",
    "    except Exception as e:\n",
    "        print(e)\n",
    "        return None"
   ]
  },
  {
   "cell_type": "code",
   "execution_count": 22,
   "metadata": {},
   "outputs": [
    {
     "name": "stdout",
     "output_type": "stream",
     "text": [
      "{'message': 'Validation error', 'errors': {'base_currency': ['The selected base currency is invalid.']}, 'info': 'For more information, see documentation: https://freecurrencyapi.com/docs/status-codes#_422'}\n",
      "'data'\n",
      "{'message': 'Validation error', 'errors': {'base_currency': ['The selected base currency is invalid.']}, 'info': 'For more information, see documentation: https://freecurrencyapi.com/docs/status-codes#_422'}\n",
      "'data'\n",
      "{'data': {'AUD': 0.010483542, 'CAD': 0.0093729361, 'CNY': 0.0494296354, 'EUR': 0.0064080345, 'JPY': 1, 'TRY': 0.1995894463, 'USD': 0.0068968844}}\n",
      "{'AUD': 0.010483542, 'CAD': 0.0093729361, 'CNY': 0.0494296354, 'EUR': 0.0064080345, 'TRY': 0.1995894463, 'USD': 0.0068968844}\n",
      "{'data': {'AUD': 0.0525255329, 'CAD': 0.0469610808, 'CNY': 0.2476565585, 'EUR': 0.032106079, 'JPY': 5.0102849546, 'TRY': 1, 'USD': 0.0345553564}}\n",
      "{'AUD': 0.0525255329, 'CAD': 0.0469610808, 'CNY': 0.2476565585, 'EUR': 0.032106079, 'JPY': 5.0102849546, 'USD': 0.0345553564}\n",
      "{'data': {'AUD': 0.0525255329, 'CAD': 0.0469610808, 'CNY': 0.2476565585, 'EUR': 0.032106079, 'JPY': 5.0102849546, 'TRY': 1, 'USD': 0.0345553564}}\n",
      "{'AUD': 0.0525255329, 'CAD': 0.0469610808, 'CNY': 0.2476565585, 'EUR': 0.032106079, 'JPY': 5.0102849546, 'USD': 0.0345553564}\n"
     ]
    }
   ],
   "source": [
    "while True:\n",
    "    base = input(\"Enter the base currency (q to quit): \").upper()\n",
    "    \n",
    "    if base == \"Q\":\n",
    "        break\n",
    "\n",
    "    data = convert_currency(base)\n",
    "    if not data:\n",
    "        continue\n",
    "    del data[base]\n",
    "    print(data)"
   ]
  },
  {
   "cell_type": "code",
   "execution_count": 17,
   "metadata": {},
   "outputs": [
    {
     "name": "stdout",
     "output_type": "stream",
     "text": [
      "AUD: 1.1184907159\n",
      "CNY: 5.2736554195\n",
      "EUR: 0.6836741926\n",
      "JPY: 106.6901541489\n",
      "TRY: 21.2942287945\n",
      "USD: 0.735829665\n"
     ]
    }
   ],
   "source": [
    "for ticker, value in data.items():\n",
    "    print(f\"{ticker}: {value}\")"
   ]
  }
 ],
 "metadata": {
  "kernelspec": {
   "display_name": "Python 3",
   "language": "python",
   "name": "python3"
  },
  "language_info": {
   "codemirror_mode": {
    "name": "ipython",
    "version": 3
   },
   "file_extension": ".py",
   "mimetype": "text/x-python",
   "name": "python",
   "nbconvert_exporter": "python",
   "pygments_lexer": "ipython3",
   "version": "3.10.6"
  }
 },
 "nbformat": 4,
 "nbformat_minor": 2
}
