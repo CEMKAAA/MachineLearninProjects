{
 "cells": [
  {
   "cell_type": "markdown",
   "metadata": {},
   "source": [
    "                                                              BAŞLAYALIM"
   ]
  },
  {
   "cell_type": "code",
   "execution_count": 1,
   "metadata": {},
   "outputs": [],
   "source": [
    "import psycopg2"
   ]
  },
  {
   "cell_type": "code",
   "execution_count": 2,
   "metadata": {},
   "outputs": [],
   "source": [
    "conn = psycopg2.connect(host=\"localhost\", dbname=\"postgres\", user=\"postgres\", password=\"admin123\", port=5432)\n",
    "cur = conn.cursor()"
   ]
  },
  {
   "cell_type": "markdown",
   "metadata": {},
   "source": [
    "Nasıl bir tablo oluşturulur"
   ]
  },
  {
   "cell_type": "code",
   "execution_count": 7,
   "metadata": {},
   "outputs": [],
   "source": [
    "cur.execute(\"\"\"CREATE TABLE IF NOT EXISTS person(\n",
    "        id SERIAL PRIMARY KEY,\n",
    "        name VARCHAR(255),\n",
    "        age INT,\n",
    "        gender CHAR\n",
    "    )\"\"\")\n",
    "conn.commit()"
   ]
  },
  {
   "cell_type": "markdown",
   "metadata": {},
   "source": [
    "PRIMARY KEY`IN STARTING INDEX(SAYISINI) DEĞİŞTİRME 6 TANE ROW VAR BIRINI SILDIN AUTOMATIC ARTIŞA TEKRARDAN 5`DEN BAŞLAMASINI ISTIYORSUNN O ZAMAN RESTART WITH 5 DIYECEKSIN"
   ]
  },
  {
   "cell_type": "code",
   "execution_count": 11,
   "metadata": {},
   "outputs": [],
   "source": [
    "cur.execute(\"\"\"\n",
    "SELECT column_name, column_default\n",
    "FROM information_schema.columns\n",
    "WHERE table_name = 'person' AND column_name = 'id';\n",
    "ALTER SEQUENCE person_id_seq RESTART WITH 2;            \n",
    "\"\"\")\n",
    "conn.commit()"
   ]
  },
  {
   "cell_type": "markdown",
   "metadata": {},
   "source": [
    "                                                           TABLE`A SATIR EKLEME IŞLEMI"
   ]
  },
  {
   "cell_type": "code",
   "execution_count": 13,
   "metadata": {},
   "outputs": [],
   "source": [
    "try:\n",
    "    cur.execute(\"\"\"\n",
    "        INSERT INTO person (name, age, gender) VALUES ('Alperen Çıracı', 15, 'e'), ('Ahmet Bilgehan Çıracı', 50, 'e'), ('Şaduman Çıracı', 40, 'e')\n",
    "    \"\"\")\n",
    "    conn.commit()\n",
    "except Exception as e:\n",
    "    print(f\"Error: {e}\")\n",
    "    conn.rollback()"
   ]
  },
  {
   "cell_type": "markdown",
   "metadata": {},
   "source": [
    "Burada bağlantıyı kapatıyoruz"
   ]
  },
  {
   "cell_type": "code",
   "execution_count": null,
   "metadata": {},
   "outputs": [],
   "source": [
    "cur.close()\n",
    "conn.close()"
   ]
  }
 ],
 "metadata": {
  "kernelspec": {
   "display_name": "Python 3",
   "language": "python",
   "name": "python3"
  },
  "language_info": {
   "codemirror_mode": {
    "name": "ipython",
    "version": 3
   },
   "file_extension": ".py",
   "mimetype": "text/x-python",
   "name": "python",
   "nbconvert_exporter": "python",
   "pygments_lexer": "ipython3",
   "version": "3.10.6"
  }
 },
 "nbformat": 4,
 "nbformat_minor": 2
}
