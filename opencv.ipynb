{
 "cells": [
  {
   "cell_type": "code",
   "execution_count": 1,
   "metadata": {},
   "outputs": [],
   "source": [
    "import cv2"
   ]
  },
  {
   "cell_type": "code",
   "execution_count": 2,
   "metadata": {},
   "outputs": [],
   "source": [
    "img = cv2.imread('assets/bakircay.png', -1)\n",
    "#-1, cv2.IMREAD_COLOR = 'Loads a color image any transparency of the image'\n",
    "#0, cv2.IMREAD_GRAYSCALE = 'Loads image in grayscale mode'\n",
    "#1, cv2.IMREAD_UNCHANGED = 'Loads image as such including alpha channel'\n",
    "cv2.imshow('Image', img)\n",
    "cv2.waitKey(0)\n",
    "cv2.destroyAllWindows()"
   ]
  },
  {
   "cell_type": "markdown",
   "metadata": {},
   "source": [
    "                                    Image üzerinde oyanama Boyutunu değiştirme döndürme vesayre"
   ]
  },
  {
   "cell_type": "code",
   "execution_count": 3,
   "metadata": {},
   "outputs": [],
   "source": [
    "img = cv2.resize(img, (0,0), fx=1, fy=1) # (0,0) diyerekten imagin boyunu pixel olarak belirlemiyoruz fx=2 demek imagenin boyunu x ekseninde iki kat arttır demek fy de aynı şekilde y yi iki kat arttıtır\n",
    "cv2.imshow('Bakircay Logo', img)\n",
    "cv2.waitKey(0)\n",
    "cv2.destroyAllWindows()"
   ]
  },
  {
   "cell_type": "code",
   "execution_count": 4,
   "metadata": {},
   "outputs": [],
   "source": [
    "img = cv2.rotate(img, cv2.ROTATE_90_CLOCKWISE)"
   ]
  },
  {
   "cell_type": "code",
   "execution_count": 5,
   "metadata": {},
   "outputs": [
    {
     "data": {
      "text/plain": [
       "True"
      ]
     },
     "execution_count": 5,
     "metadata": {},
     "output_type": "execute_result"
    }
   ],
   "source": [
    "cv2.imwrite('assets/new_img.png', img)"
   ]
  },
  {
   "cell_type": "markdown",
   "metadata": {},
   "source": [
    "                                                  IMAGE MANIPULATION"
   ]
  },
  {
   "cell_type": "code",
   "execution_count": 6,
   "metadata": {},
   "outputs": [
    {
     "name": "stdout",
     "output_type": "stream",
     "text": [
      "(507, 512, 4)\n"
     ]
    }
   ],
   "source": [
    "print(img.shape)"
   ]
  },
  {
   "cell_type": "code",
   "execution_count": 7,
   "metadata": {},
   "outputs": [],
   "source": [
    "cv2.imshow('Bakircay',img[50:300][45:400]) # show me the 50th to 450th rows and columns of these row from 45 to 400 we will get the this part of the image\n",
    "cv2.waitKey(0)\n",
    "cv2.destroyAllWindows()"
   ]
  },
  {
   "cell_type": "code",
   "execution_count": 8,
   "metadata": {},
   "outputs": [],
   "source": [
    "import random\n",
    "\n",
    "for i in range(250) :\n",
    "    for j in range(img.shape[1]) :\n",
    "        img[i][j] = [random.randint(0, 255), random.randint(0, 255), random.randint(0, 255), random.randint(0, 255)]\n",
    "        \n",
    "cv2.imshow('Bakircay',img)\n",
    "cv2.waitKey(0)\n",
    "cv2.destroyAllWindows()"
   ]
  },
  {
   "cell_type": "code",
   "execution_count": 9,
   "metadata": {},
   "outputs": [],
   "source": [
    "tag = img[100:300, 200:500]\n",
    "img[0:200, 100:400] = tag\n",
    "cv2.imshow('Bakircay',img) \n",
    "cv2.waitKey(0)\n",
    "cv2.destroyAllWindows()"
   ]
  },
  {
   "cell_type": "markdown",
   "metadata": {},
   "source": [
    "                                                Kamera Ile Oynama"
   ]
  },
  {
   "cell_type": "markdown",
   "metadata": {},
   "source": [
    "                                     SADECE MAVI RENGI ALGILAYIP GOSTEREN KAMERANIN KODU"
   ]
  },
  {
   "cell_type": "code",
   "execution_count": 12,
   "metadata": {},
   "outputs": [],
   "source": [
    "import numpy as np\n",
    "cap = cv2.VideoCapture(0) # zero defines which webcam of yours you want to use because i just have one i wrote 0 if i had more than oen webcam i would have written either 1 or 0\n",
    "\n",
    "while True:\n",
    "    ret, frame = cap.read()\n",
    "    width = int(cap.get(3))\n",
    "    height = int(cap.get(4))\n",
    "    \n",
    "    hsv = cv2.cvtColor(frame, cv2.COLOR_BGR2HSV)\n",
    "    lower_blue = np.array([90, 50, 0])\n",
    "    upper_blue = np.array([130, 255, 255])    \n",
    "    \n",
    "    mask = cv2.inRange(hsv, lower_blue, upper_blue)\n",
    "    \n",
    "    result = cv2.bitwise_and(frame, frame, mask=mask)\n",
    "    \n",
    "    cv2.imshow('frame', result)\n",
    "    cv2.imshow('mask', mask)\n",
    "    \n",
    "    if cv2.waitKey(1) == ord('q'):\n",
    "        break\n",
    "    \n",
    "cap.release()\n",
    "cv2.destroyAllWindows()"
   ]
  },
  {
   "cell_type": "markdown",
   "metadata": {},
   "source": [
    "                                              EKRANA BİRŞEYLER ÇİZME"
   ]
  },
  {
   "cell_type": "code",
   "execution_count": 15,
   "metadata": {},
   "outputs": [],
   "source": [
    "import numpy as np\n",
    "cap = cv2.VideoCapture(0) # zero defines which webcam of yours you want to use because i just have one i wrote 0 if i had more than oen webcam i would have written either 1 or 0\n",
    "while True:\n",
    "    ret, frame = cap.read()\n",
    "    width = int(cap.get(3))\n",
    "    height = int(cap.get(4))\n",
    "    \n",
    "    img = cv2.line(frame, (0,0), (width, height), (255,0,0), 10)\n",
    "    img = cv2.line(img, (0,height), (width, 0), (0,0,255), 5)\n",
    "    img = cv2.rectangle(img, (100,100), (200,200), (128,128,128), 3)\n",
    "    img = cv2.circle(img, (300,300), 60, (0,255,0), -1)\n",
    "    font = cv2.FONT_HERSHEY_SIMPLEX\n",
    "    img = cv2.putText(img, 'Cem is great', (10,height-10), font, 2, (0,0,0), 2, cv2.LINE_AA)\n",
    "    \n",
    "    cv2.imshow('frame', img)\n",
    "    \n",
    "    if cv2.waitKey(1) == ord('q'):\n",
    "        break\n",
    "    \n",
    "cap.release()\n",
    "cv2.destroyAllWindows()"
   ]
  },
  {
   "cell_type": "markdown",
   "metadata": {},
   "source": [
    "                                               EKRANI 4`E BOLELIM"
   ]
  },
  {
   "cell_type": "code",
   "execution_count": 16,
   "metadata": {},
   "outputs": [],
   "source": [
    "import numpy as np\n",
    "cap = cv2.VideoCapture(0) # zero defines which webcam of yours you want to use because i just have one i wrote 0 if i had more than oen webcam i would have written either 1 or 0\n",
    "while True:\n",
    "    ret, frame = cap.read()\n",
    "    width = int(cap.get(3))\n",
    "    height = int(cap.get(4))\n",
    "    \n",
    "    image = np.zeros(frame.shape, np.uint8)\n",
    "    smaller_frame = cv2.resize(frame, (0,0), fx=0.5, fy=0.5)\n",
    "    image[:height//2, :width//2] = cv2.rotate(smaller_frame, cv2.ROTATE_180) #top left\n",
    "    image[height//2:, :width//2] = smaller_frame # bottom left\n",
    "    image[:height//2, width//2:] = cv2.rotate(smaller_frame, cv2.ROTATE_180) # top right\n",
    "    image[height//2:, width//2:] = smaller_frame # bottom right\n",
    "    cv2.imshow('frame', image)\n",
    "    \n",
    "    if cv2.waitKey(1) == ord('q'):\n",
    "        break\n",
    "    \n",
    "cap.release()\n",
    "cv2.destroyAllWindows()"
   ]
  },
  {
   "cell_type": "markdown",
   "metadata": {},
   "source": [
    "                                        CORNER DETECTION(Bir Görseldeki Köşeleri Bulan Program)"
   ]
  },
  {
   "cell_type": "code",
   "execution_count": 130,
   "metadata": {},
   "outputs": [
    {
     "name": "stderr",
     "output_type": "stream",
     "text": [
      "C:\\Users\\Cem\\AppData\\Local\\Temp\\ipykernel_23328\\4060969853.py:6: DeprecationWarning: `np.int0` is a deprecated alias for `np.intp`.  (Deprecated NumPy 1.24)\n",
      "  corners = np.int0(corners)\n"
     ]
    },
    {
     "name": "stdout",
     "output_type": "stream",
     "text": [
      "[[[450 411]]\n",
      "\n",
      " [[226 455]]\n",
      "\n",
      " [[360 411]]\n",
      "\n",
      " [[406 188]]\n",
      "\n",
      " [[183 231]]\n",
      "\n",
      " [[226 365]]\n",
      "\n",
      " [[496 365]]\n",
      "\n",
      " [[316 275]]\n",
      "\n",
      " [[270 321]]\n",
      "\n",
      " [[360 141]]\n",
      "\n",
      " [[406 278]]\n",
      "\n",
      " [[316 545]]\n",
      "\n",
      " [[540 321]]\n",
      "\n",
      " [[273 501]]\n",
      "\n",
      " [[273 231]]\n",
      "\n",
      " [[316 368]]\n",
      "\n",
      " [[316  98]]\n",
      "\n",
      " [[363 321]]\n",
      "\n",
      " [[ 93 321]]\n",
      "\n",
      " [[136 278]]]\n"
     ]
    }
   ],
   "source": [
    "img = cv2.imread('assets/gamali_hac.png')\n",
    "img = cv2.resize(img, (0,0), fx=1.25, fy=1.25)\n",
    "gray = cv2.cvtColor(img, cv2.COLOR_BGR2GRAY)\n",
    "\n",
    "corners = cv2.goodFeaturesToTrack(gray, 100, 0.1, 10)\n",
    "corners = np.int0(corners)\n",
    "print(corners)\n",
    "\n",
    "for corner in corners :\n",
    "    x, y = corner.ravel()\n",
    "    cv2.circle(img, (x,y), 5, (255,0,0), -1)\n",
    "    \n",
    "for i in range(len(corners)) :\n",
    "    for j in range(i+1, len(corners)) :\n",
    "        corner1 = corners[i][0]\n",
    "        corner2 = corners[j][0]\n",
    "        color = tuple(map(lambda x: int(x), np.random.randint(0, 255, size=3)))\n",
    "        cv2.line(img, corner1, corner2, color, 1)\n",
    "\n",
    "cv2.imshow('frame', img)\n",
    "cv2.waitKey(0)\n",
    "cv2.destroyAllWindows()"
   ]
  },
  {
   "cell_type": "markdown",
   "metadata": {},
   "source": [
    "                            OBJECT DETECTION IN IMAGES(görsellerin içerisinden belirli objeleri seçen yapay zeka)"
   ]
  },
  {
   "cell_type": "code",
   "execution_count": 132,
   "metadata": {},
   "outputs": [],
   "source": [
    "img = cv2.resize(cv2.imread('assets/soccer_practice.jpg', 0), (0,0), fx=0.8, fy=0.8)\n",
    "template = cv2.resize(cv2.imread('assets/shoe.PNG', 0), (0,0), fx=0.8, fy=0.8)\n",
    "h, w = template.shape\n",
    "\n",
    "methods = [cv2.TM_CCOEFF, cv2.TM_CCOEFF_NORMED, cv2.TM_CCORR,cv2.TM_CCORR_NORMED,cv2.TM_SQDIFF,cv2.TM_SQDIFF_NORMED]\n",
    "\n",
    "for method in methods:\n",
    "    img2 = img.copy()\n",
    "    \n",
    "    result = cv2.matchTemplate(img2, template, method)\n",
    "    min_val, max_val, min_loc, max_loc = cv2.minMaxLoc(result)\n",
    "    if method in [cv2.TM_SQDIFF, cv2.TM_SQDIFF_NORMED] :\n",
    "        location = min_loc\n",
    "    else:\n",
    "        location = max_loc\n",
    "    \n",
    "    bottom_right = (location[0] + w, location[1] + h)\n",
    "    cv2.rectangle(img2, location, bottom_right, 255, 5)\n",
    "    cv2.imshow('Match', img2)\n",
    "    cv2.waitKey(0)\n",
    "    cv2.destroyAllWindows()"
   ]
  },
  {
   "cell_type": "markdown",
   "metadata": {},
   "source": [
    "                                                        FACE DETECTION"
   ]
  },
  {
   "cell_type": "code",
   "execution_count": 133,
   "metadata": {},
   "outputs": [],
   "source": [
    "cap = cv2.VideoCapture(0)\n",
    "face_cascade = cv2.CascadeClassifier(cv2.data.haarcascades + 'haarcascade_frontalface_default.xml')\n",
    "eye_cascade = cv2.CascadeClassifier(cv2.data.haarcascades + 'haarcascade_eye.xml')\n",
    "\n",
    "while True:\n",
    "    ret, frame = cap.read()\n",
    "    \n",
    "    gray = cv2.cvtColor(frame, cv2.COLOR_BGR2GRAY)\n",
    "    faces = face_cascade.detectMultiScale(gray, 1.3, 5)\n",
    "    for (x,y,w,h) in faces :\n",
    "        cv2.rectangle(frame, (x,y), (x+w, y+h), (255,0,0), 5)\n",
    "        roi_gray = gray[y:y+w, x:x+w]\n",
    "        roi_color = frame[y:y+h, x:x+w]\n",
    "        eyes = eye_cascade.detectMultiScale(roi_gray, 1.3, 5)\n",
    "        for (ex,ey,ew,eh) in eyes :\n",
    "            cv2.rectangle(roi_color, (ex,ey), (ex+ew, ey+eh), (0,255,0), 5)\n",
    "            \n",
    "    cv2.imshow('frame', frame)\n",
    "    \n",
    "    if cv2.waitKey(1) == ord('q') :\n",
    "        break\n",
    "    \n",
    "cap.release()\n",
    "cv2.destroyAllWindows()"
   ]
  }
 ],
 "metadata": {
  "kernelspec": {
   "display_name": "Python 3",
   "language": "python",
   "name": "python3"
  },
  "language_info": {
   "codemirror_mode": {
    "name": "ipython",
    "version": 3
   },
   "file_extension": ".py",
   "mimetype": "text/x-python",
   "name": "python",
   "nbconvert_exporter": "python",
   "pygments_lexer": "ipython3",
   "version": "3.10.6"
  }
 },
 "nbformat": 4,
 "nbformat_minor": 2
}
