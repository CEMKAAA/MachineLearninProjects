{
 "cells": [
  {
   "cell_type": "code",
   "execution_count": 7,
   "metadata": {},
   "outputs": [],
   "source": [
    "def fibonacci_series(count):\n",
    "    series = []\n",
    "    if count <= 0:\n",
    "        return series\n",
    "    elif count == 1:\n",
    "        return [0]\n",
    "    elif count == 2:\n",
    "        return [0,1]\n",
    "    else:\n",
    "        series = [0,1]\n",
    "        for i in range(2,count):\n",
    "            next_number = series[i-1] + series[i-2]\n",
    "            series.append(next_number)\n",
    "        return series"
   ]
  },
  {
   "cell_type": "code",
   "execution_count": 8,
   "metadata": {},
   "outputs": [],
   "source": [
    "def main():\n",
    "    try:\n",
    "        count = int(input(\"Enter the count for Fibonacci series: \"))\n",
    "        if count < 0:\n",
    "            print(\"Please enter a positive integer.\")\n",
    "        else:\n",
    "            fibonacci = fibonacci_series(count)\n",
    "            print(\"Fibonacci series up to count {}: {}\".format(count, fibonacci))\n",
    "    except ValueError:\n",
    "        print(\"Please enter a valid integer.\")"
   ]
  },
  {
   "cell_type": "code",
   "execution_count": 9,
   "metadata": {},
   "outputs": [
    {
     "name": "stdout",
     "output_type": "stream",
     "text": [
      "Fibonacci series up to count 20: [0, 1, 1, 2, 3, 5, 8, 13, 21, 34, 55, 89, 144, 233, 377, 610, 987, 1597, 2584, 4181]\n"
     ]
    }
   ],
   "source": [
    "if __name__ == \"__main__\":\n",
    "    main()"
   ]
  }
 ],
 "metadata": {
  "kernelspec": {
   "display_name": "Python 3",
   "language": "python",
   "name": "python3"
  },
  "language_info": {
   "codemirror_mode": {
    "name": "ipython",
    "version": 3
   },
   "file_extension": ".py",
   "mimetype": "text/x-python",
   "name": "python",
   "nbconvert_exporter": "python",
   "pygments_lexer": "ipython3",
   "version": "3.10.6"
  }
 },
 "nbformat": 4,
 "nbformat_minor": 2
}
