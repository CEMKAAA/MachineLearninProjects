{
 "cells": [
  {
   "cell_type": "code",
   "execution_count": null,
   "metadata": {},
   "outputs": [],
   "source": [
    "binance_api_key = 'MG7515e5MCJK7feTbpp4uB78H3r5tP2JWZ9Cl9Ua3Wsc76mURGUWQfikaH7RaYms'\n",
    "binance_secret_key = 'psh5ptBfAVTbY7PffaSgFnEOWzuxcAMYVWaHo6NjqWqUS40IrBavfawgoCuiLN3r'\n",
    "\n",
    "api_enpoint = 'wss://stream.binance.com:9443'\n",
    "stream_endpoint = 'wss://stream.binance.com:9443/ws/bnbbtc@depth'"
   ]
  }
 ],
 "metadata": {
  "kernelspec": {
   "display_name": "Python 3",
   "language": "python",
   "name": "python3"
  },
  "language_info": {
   "name": "python",
   "version": "3.10.6"
  }
 },
 "nbformat": 4,
 "nbformat_minor": 2
}
